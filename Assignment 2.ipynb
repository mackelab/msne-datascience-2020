{
  "nbformat": 4,
  "nbformat_minor": 0,
  "metadata": {
    "kernelspec": {
      "display_name": "Python 3",
      "language": "python",
      "name": "python3"
    },
    "language_info": {
      "codemirror_mode": {
        "name": "ipython",
        "version": 3
      },
      "file_extension": ".py",
      "mimetype": "text/x-python",
      "name": "python",
      "nbconvert_exporter": "python",
      "pygments_lexer": "ipython3",
      "version": "3.7.3"
    },
    "colab": {
      "name": "Assignment 2.ipynb",
      "provenance": []
    }
  },
  "cells": [
    {
      "cell_type": "markdown",
      "metadata": {
        "id": "28RFrIBHowUX"
      },
      "source": [
        "# Assigment week 2"
      ]
    },
    {
      "cell_type": "markdown",
      "metadata": {
        "id": "MOlPw56XowUY"
      },
      "source": [
        "## Exercise 1\n",
        "\n",
        "Your collaborator has performed an experiment and has measured the spike counts of two neurons when presenting 10 different stimuli. Each stimulus was presented 20 times. The data is saved in the file `spike_counts.npz` in two arrays, one for each cell (keys `spikes_neuron1` and `spikes_neuron2`), in which the rows are the number of stimuli presented and the columns are the 20 trials. \n",
        "\n",
        "First of all, plot these arrays - can you visually see which neuron conveys more information about the stimulus identity? \n",
        "\n",
        "By computing the mutual information between the spike count of each cell and the stimuli presented, determine the answer in a quantitative fashion. In doing so, bin the spike counts into bins: 0-4, 5-9, 10-14 etc and use logarithms to base 2 in the definitions. When computing the joint probability density function, do not smooth this in any way.\n",
        "\n",
        "**Return (to 3 decimal places):**\n",
        "\n",
        "  1. the mutual information between neuron 1 and the stimulus\n",
        "  2. the mutual information between neuron 2 and the stimulus\n",
        "  3. the maximum mutual information that a neuron could convey about the stimulus\n",
        "  \n",
        " \n",
        "---\n",
        "\n",
        "Now, bin the counts into bins of 10 (0-9, 10-19, 20-29 etc.).\n",
        "\n",
        "**Return (to 3 decimal places):**\n",
        "\n",
        "  4. the mutual information between neuron 1 and the stimulus with bins of 10 spikes\n",
        "  5. the mutual information between neuron 2 and the stimulus with bins of 10 spikes\n",
        "\n",
        "Do you understand why this is the case?\n",
        "\n",
        "If you now take the bin size to be equal to 1, you find that the mutual information between neuron 1 and the stimulus is 1.897, whereas that between neuron 2 and the stimulus is 1.810. Do you understand why?"
      ]
    },
    {
      "cell_type": "code",
      "metadata": {
        "id": "ASYBUg_KowUa"
      },
      "source": [
        "import numpy as np\n",
        "import matplotlib.pyplot as plt\n",
        "import os\n",
        "import math\n",
        "import pandas as pd\n",
        "from google.colab import drive\n",
        "drive.mount('/content/drive')\n",
        "\n",
        "%cd drive/My Drive/Colab Notebooks\n",
        "spcounts= np.load('spike_counts.npz')\n",
        "spcounts=dict(zip(('spikes_neuron1','spikes_neuron2','spikes_unknown_stim'), (spcounts[k] for k in spcounts)))\n",
        "\n",
        "#print(spcounts['spikes_neuron1'])\n",
        "#calculate the conditional probability function\n",
        "def x_giveny(data,bins):\n",
        " px_giveny_stim=[]\n",
        " for i in range(data.shape[0]):\n",
        "   #print(i)\n",
        "   #print(spcounts['spikes_neuron1'][i])\n",
        "   hist, edges=np.histogram(data[i], np.arange(0,np.amax(data[i]),bins))\n",
        "   px_giveny_stim.append(hist/20)\n",
        "   #print(hist/20)\n",
        " px_giveny= pd.DataFrame(px_giveny_stim,dtype=float)\n",
        " px_giveny=px_giveny.fillna(0).values\n",
        " return px_giveny\n",
        "#calculate the marginal probability of x\n",
        "def px(px_giveny,py):\n",
        "  px= np.sum(py*px_giveny, axis=0)\n",
        "  return px\n",
        "\n",
        "\n",
        "#calculate the mutual information\n",
        "def mutual_info(px, py, px_giveny):\n",
        "  sum=0\n",
        "  for i in range(px_giveny.shape[0]):\n",
        "    for j in range(px_giveny.shape[1]):\n",
        "      if px_giveny[i][j] != 0:\n",
        "        #sum = sum + math.log2(px_giveny[i][j]/px[j])\n",
        "        sum= sum+ py*px_giveny[i][j]*math.log2(px_giveny[i][j]/px[j])\n",
        "  return sum\n",
        "\n",
        "#bins of length 5\n",
        "py = 0.1  \n",
        "px_giveny1 = x_giveny(spcounts['spikes_neuron1'],5)\n",
        "mutualinfo_n1 = round(mutual_info(px(px_giveny1,py),py,px_giveny1),3)\n",
        "print('The mutual information between neuron 1 and the stimulus is '+ str(mutualinfo_n1))\n",
        "px_giveny2 = x_giveny(spcounts['spikes_neuron2'],5)\n",
        "mutualinfo_n2 = round(mutual_info(px(px_giveny2,py),py,px_giveny2),3)\n",
        "print('The mutual information between neuron 2 and the stimulus is '+ str(mutualinfo_n2))\n",
        "\n",
        "#bins of length 10\n",
        "py = 0.1  \n",
        "px_giveny1 = x_giveny(spcounts['spikes_neuron1'],10)\n",
        "mutualinfo_n1 = round(mutual_info(px(px_giveny1,py),py,px_giveny1),3)\n",
        "print('The mutual information between neuron 1 and the stimulus is '+ str(mutualinfo_n1))\n",
        "px_giveny2 = x_giveny(spcounts['spikes_neuron2'],10)\n",
        "mutualinfo_n2 = round(mutual_info(px(px_giveny2,py),py,px_giveny2),3)\n",
        "print('The mutual information between neuron 2 and the stimulus is '+ str(mutualinfo_n2))\n",
        "\n",
        "#bins of length 1\n",
        "py = 0.1  \n",
        "px_giveny1 = x_giveny(spcounts['spikes_neuron1'],1)\n",
        "mutualinfo_n1 = round(mutual_info(px(px_giveny1,py),py,px_giveny1),3)\n",
        "print('The mutual information between neuron 1 and the stimulus is '+ str(mutualinfo_n1))\n",
        "px_giveny2 = x_giveny(spcounts['spikes_neuron2'],1)\n",
        "mutualinfo_n2 = round(mutual_info(px(px_giveny2,py),py,px_giveny2),3)\n",
        "print('The mutual information between neuron 2 and the stimulus is '+ str(mutualinfo_n2))\n",
        "\n",
        "\n"
      ],
      "execution_count": null,
      "outputs": []
    },
    {
      "cell_type": "markdown",
      "metadata": {
        "id": "vJnT74OTowUb"
      },
      "source": [
        "# Exercise 2\n",
        "\n",
        "Your collaborator also tells you that there are 20 more trials of neuron 1, but that it is unclear whether they belong to stimulus 7 or stimulus 8.\n",
        "\n",
        "You decide to help your collaborator out. Assume that the spike number from neuron 1 to all stimuli is a Gaussian function, where the mean depends on the stimulus identity but the variance is fixed. First, use maximum likelihood estimation to estimate the mean firing rates to stimuli 7 and 8 (**start counting with 1**, so they will be entries `spikes_neuronn[6, :]` and `spikes_neuronn[7, :]` of the matrix).\n",
        "\n",
        "\n",
        "**Return (to 3 decimal places):**\n",
        "\n",
        "  6. the estimate for the mean number of spikes that neuron 1 fires to stimulus 7\n",
        "  7. the estimate for the mean number of spikes that neuron 1 fires to stimulus 8\n",
        "  8. the estimate for the variance of the distributions (using all 200 responses to all stimuli)\n",
        "  \n",
        "---\n",
        "\n",
        "Then, load the data coming from the unknown stimulus. You will find the data under the key `spikes_unknown_stim` of the `spike_counts.npz` file.\n",
        "Use the log-likelihood ratio function to decide what stimulus is your best guess. What is the probability that you are wrong?\n",
        "\n",
        "**Return:**\n",
        "\n",
        "  9. Your guess for the stimulus (7 or 8)\n",
        "  10. The probability that you are wrong (up to 3 decimal places)  \n",
        "\n"
      ]
    },
    {
      "cell_type": "code",
      "metadata": {
        "colab": {
          "base_uri": "https://localhost:8080/",
          "height": 235
        },
        "id": "Pdhdg7lwowUc",
        "outputId": "719ecf60-d0ec-460d-d0c8-d2a4699228ec"
      },
      "source": [
        "import scipy.stats\n",
        "\n",
        "mean7 = np.mean(spcounts['spikes_neuron1'][6,:])\n",
        "mean8 = np.mean(spcounts['spikes_neuron1'][7,:])\n",
        "var_stimuli = np.var(spcounts['spikes_neuron1'],axis=1)\n",
        "var= np.mean(var_stimuli)\n",
        "#print(var)\n",
        "print(var_stimuli)\n",
        "print(mean7)\n",
        "print(mean8)\n",
        "\n",
        "logR = (mean8-mean7)*np.sum(2*spcounts['spikes_unknown_stim']-mean7-mean8)/(2*var)\n",
        "print(logR)\n",
        "\n",
        "if logR>0:\n",
        "  print('The best guess is stimulus 8')\n",
        "else:\n",
        "  print('The best guess is stimulus 7')\n",
        "\n",
        "Rmean = 20*(mean8-mean7)**2/(2*var) \n",
        "Rvar = 20*(mean8-mean7)**2/var   \n",
        "P_wrong = round((1-scipy.stats.norm.cdf(logR, loc= -Rmean, scale=math.sqrt(Rvar))),3)\n",
        "print('The probability of the guess being wrong is '+ str(P_wrong))\n"
      ],
      "execution_count": 1,
      "outputs": [
        {
          "output_type": "error",
          "ename": "NameError",
          "evalue": "ignored",
          "traceback": [
            "\u001b[0;31m---------------------------------------------------------------------------\u001b[0m",
            "\u001b[0;31mNameError\u001b[0m                                 Traceback (most recent call last)",
            "\u001b[0;32m<ipython-input-1-774776946492>\u001b[0m in \u001b[0;36m<module>\u001b[0;34m()\u001b[0m\n\u001b[1;32m      1\u001b[0m \u001b[0;32mimport\u001b[0m \u001b[0mscipy\u001b[0m\u001b[0;34m.\u001b[0m\u001b[0mstats\u001b[0m\u001b[0;34m\u001b[0m\u001b[0;34m\u001b[0m\u001b[0m\n\u001b[1;32m      2\u001b[0m \u001b[0;34m\u001b[0m\u001b[0m\n\u001b[0;32m----> 3\u001b[0;31m \u001b[0mmean7\u001b[0m \u001b[0;34m=\u001b[0m \u001b[0mnp\u001b[0m\u001b[0;34m.\u001b[0m\u001b[0mmean\u001b[0m\u001b[0;34m(\u001b[0m\u001b[0mspcounts\u001b[0m\u001b[0;34m[\u001b[0m\u001b[0;34m'spikes_neuron1'\u001b[0m\u001b[0;34m]\u001b[0m\u001b[0;34m[\u001b[0m\u001b[0;36m6\u001b[0m\u001b[0;34m,\u001b[0m\u001b[0;34m:\u001b[0m\u001b[0;34m]\u001b[0m\u001b[0;34m)\u001b[0m\u001b[0;34m\u001b[0m\u001b[0;34m\u001b[0m\u001b[0m\n\u001b[0m\u001b[1;32m      4\u001b[0m \u001b[0mmean8\u001b[0m \u001b[0;34m=\u001b[0m \u001b[0mnp\u001b[0m\u001b[0;34m.\u001b[0m\u001b[0mmean\u001b[0m\u001b[0;34m(\u001b[0m\u001b[0mspcounts\u001b[0m\u001b[0;34m[\u001b[0m\u001b[0;34m'spikes_neuron1'\u001b[0m\u001b[0;34m]\u001b[0m\u001b[0;34m[\u001b[0m\u001b[0;36m7\u001b[0m\u001b[0;34m,\u001b[0m\u001b[0;34m:\u001b[0m\u001b[0;34m]\u001b[0m\u001b[0;34m)\u001b[0m\u001b[0;34m\u001b[0m\u001b[0;34m\u001b[0m\u001b[0m\n\u001b[1;32m      5\u001b[0m \u001b[0mvar_stimuli\u001b[0m \u001b[0;34m=\u001b[0m \u001b[0mnp\u001b[0m\u001b[0;34m.\u001b[0m\u001b[0mvar\u001b[0m\u001b[0;34m(\u001b[0m\u001b[0mspcounts\u001b[0m\u001b[0;34m[\u001b[0m\u001b[0;34m'spikes_neuron1'\u001b[0m\u001b[0;34m]\u001b[0m\u001b[0;34m,\u001b[0m\u001b[0maxis\u001b[0m\u001b[0;34m=\u001b[0m\u001b[0;36m1\u001b[0m\u001b[0;34m)\u001b[0m\u001b[0;34m\u001b[0m\u001b[0;34m\u001b[0m\u001b[0m\n",
            "\u001b[0;31mNameError\u001b[0m: name 'np' is not defined"
          ]
        }
      ]
    }
  ]
}